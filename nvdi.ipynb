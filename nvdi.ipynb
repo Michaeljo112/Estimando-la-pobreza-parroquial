{
 "cells": [
  {
   "cell_type": "markdown",
   "id": "721ed1ca-60c4-4785-b73e-741dc20e96ec",
   "metadata": {},
   "source": [
    "Antes de cualquier cosa, debes autentificarte a través del cmd, ejecutando:<br>\n",
    "earthengine authenticate <br>\n",
    "y antes deberías instalar pip install earthengine-api geemap geopandas pandas"
   ]
  },
  {
   "cell_type": "code",
   "execution_count": 1,
   "id": "66a31ec1-e851-4497-b00e-53f5ee67b0a9",
   "metadata": {},
   "outputs": [],
   "source": [
    "import ee\n",
    "import geopandas as gpd\n",
    "import pandas as pd\n",
    "from datetime import datetime\n",
    "from shapely.geometry import mapping\n",
    "import json\n",
    "from tqdm import tqdm\n",
    "import csv"
   ]
  },
  {
   "cell_type": "markdown",
   "id": "b3318623-1331-482c-a3c2-705316a7173e",
   "metadata": {},
   "source": [
    "Hay que ir a \n",
    "https://console.cloud.google.com/apis/dashboard?invt=AbuKWg&project=maximal-osprey-287122\n",
    "para habilitar la consulta."
   ]
  },
  {
   "cell_type": "code",
   "execution_count": 2,
   "id": "fef2bbef-c9e3-45a5-aeb3-fe077821ddd4",
   "metadata": {},
   "outputs": [],
   "source": [
    "# Inicializar Earth Engine\n",
    "ee.Initialize(project='maximal-osprey-287122')  # Reemplaza con tu ID real"
   ]
  },
  {
   "cell_type": "code",
   "execution_count": 3,
   "id": "e1493bca-face-4d12-9085-9316841b1ce8",
   "metadata": {},
   "outputs": [],
   "source": [
    "shapefile_path = \"C:/Users/Michael/Documents/ml_zc/ecu_adm_2024/ecu_adm_adm3_2024.shp\"\n",
    "gdf = gpd.read_file(shapefile_path)"
   ]
  },
  {
   "cell_type": "code",
   "execution_count": 4,
   "id": "e3632e81-97c2-4ef0-bdcb-ad1e3bc4cac5",
   "metadata": {},
   "outputs": [],
   "source": [
    "parroquias = gdf[['ADM3_PCODE', 'geometry']]\n",
    "parroquias[parroquias['ADM3_PCODE'] == 'EC160156']\n",
    "#parroquias = parroquias[parroquias['ADM3_PCODE'].isin(['EC050651', 'EC010951'])] #'EC050651', \n",
    "parroquias = parroquias.iloc[774:]"
   ]
  },
  {
   "cell_type": "code",
   "execution_count": 5,
   "id": "617c5c10-69c0-41e2-a3a2-518cefede710",
   "metadata": {},
   "outputs": [],
   "source": [
    "# Función para convertir a EE FeatureCollection correctamente\n",
    "def gdf_to_fc(tabla_geometria):\n",
    "    features = []\n",
    "    for _, row in tabla_geometria.iterrows():\n",
    "        # Convierte la geometría a formato geojson (dict) con mapping()\n",
    "        geojson_geom = mapping(row['geometry'])\n",
    "        geom = ee.Geometry(geojson_geom)\n",
    "        props = row.drop('geometry').to_dict()\n",
    "        features.append(ee.Feature(geom, props))\n",
    "    return ee.FeatureCollection(features)\n",
    "\n",
    "# El NDVI se calcula utilizando las bandas de infrarrojo cercano (B8) y rojo (B4) de Sentinel-2:\n",
    "def calcular_ndvi(image):\n",
    "    # Calcular NDVI\n",
    "    ndvi = image.normalizedDifference(['B8', 'B4']).rename('NDVI')\n",
    "    return ndvi"
   ]
  },
  {
   "cell_type": "code",
   "execution_count": 6,
   "id": "f3ce9204-0825-4261-bd87-36bdb7973a74",
   "metadata": {},
   "outputs": [
    {
     "name": "stderr",
     "output_type": "stream",
     "text": [
      "Procesando parroquias:   0%|                                                                                                                                                                                                                        | 0/268 [00:00<?, ?it/s]"
     ]
    },
    {
     "name": "stdout",
     "output_type": "stream",
     "text": [
      "EC160156\n"
     ]
    },
    {
     "name": "stderr",
     "output_type": "stream",
     "text": [
      "Procesando parroquias:   0%|                                                                                                                                                                                                                        | 0/268 [00:18<?, ?it/s]\n"
     ]
    },
    {
     "ename": "EEException",
     "evalue": "Request payload size exceeds the limit: 10485760 bytes.",
     "output_type": "error",
     "traceback": [
      "\u001b[1;31m---------------------------------------------------------------------------\u001b[0m",
      "\u001b[1;31mHttpError\u001b[0m                                 Traceback (most recent call last)",
      "File \u001b[1;32m~\\AppData\\Local\\Programs\\Python\\Python310\\lib\\site-packages\\ee\\data.py:408\u001b[0m, in \u001b[0;36m_execute_cloud_call\u001b[1;34m(call, num_retries)\u001b[0m\n\u001b[0;32m    407\u001b[0m \u001b[38;5;28;01mtry\u001b[39;00m:\n\u001b[1;32m--> 408\u001b[0m   \u001b[38;5;28;01mreturn\u001b[39;00m \u001b[43mcall\u001b[49m\u001b[38;5;241;43m.\u001b[39;49m\u001b[43mexecute\u001b[49m\u001b[43m(\u001b[49m\u001b[43mnum_retries\u001b[49m\u001b[38;5;241;43m=\u001b[39;49m\u001b[43mnum_retries\u001b[49m\u001b[43m)\u001b[49m\n\u001b[0;32m    409\u001b[0m \u001b[38;5;28;01mexcept\u001b[39;00m googleapiclient\u001b[38;5;241m.\u001b[39merrors\u001b[38;5;241m.\u001b[39mHttpError \u001b[38;5;28;01mas\u001b[39;00m e:\n",
      "File \u001b[1;32m~\\AppData\\Local\\Programs\\Python\\Python310\\lib\\site-packages\\googleapiclient\\_helpers.py:130\u001b[0m, in \u001b[0;36mpositional.<locals>.positional_decorator.<locals>.positional_wrapper\u001b[1;34m(*args, **kwargs)\u001b[0m\n\u001b[0;32m    129\u001b[0m         logger\u001b[38;5;241m.\u001b[39mwarning(message)\n\u001b[1;32m--> 130\u001b[0m \u001b[38;5;28;01mreturn\u001b[39;00m wrapped(\u001b[38;5;241m*\u001b[39margs, \u001b[38;5;241m*\u001b[39m\u001b[38;5;241m*\u001b[39mkwargs)\n",
      "File \u001b[1;32m~\\AppData\\Local\\Programs\\Python\\Python310\\lib\\site-packages\\googleapiclient\\http.py:938\u001b[0m, in \u001b[0;36mHttpRequest.execute\u001b[1;34m(self, http, num_retries)\u001b[0m\n\u001b[0;32m    937\u001b[0m \u001b[38;5;28;01mif\u001b[39;00m resp\u001b[38;5;241m.\u001b[39mstatus \u001b[38;5;241m>\u001b[39m\u001b[38;5;241m=\u001b[39m \u001b[38;5;241m300\u001b[39m:\n\u001b[1;32m--> 938\u001b[0m     \u001b[38;5;28;01mraise\u001b[39;00m HttpError(resp, content, uri\u001b[38;5;241m=\u001b[39m\u001b[38;5;28mself\u001b[39m\u001b[38;5;241m.\u001b[39muri)\n\u001b[0;32m    939\u001b[0m \u001b[38;5;28;01mreturn\u001b[39;00m \u001b[38;5;28mself\u001b[39m\u001b[38;5;241m.\u001b[39mpostproc(resp, content)\n",
      "\u001b[1;31mHttpError\u001b[0m: <HttpError 400 when requesting https://earthengine.googleapis.com/v1/projects/maximal-osprey-287122/value:compute?prettyPrint=false&alt=json returned \"Request payload size exceeds the limit: 10485760 bytes.\". Details: \"Request payload size exceeds the limit: 10485760 bytes.\">",
      "\nDuring handling of the above exception, another exception occurred:\n",
      "\u001b[1;31mEEException\u001b[0m                               Traceback (most recent call last)",
      "Cell \u001b[1;32mIn[6], line 43\u001b[0m\n\u001b[0;32m     38\u001b[0m image_collection \u001b[38;5;241m=\u001b[39m ee\u001b[38;5;241m.\u001b[39mImageCollection(\u001b[38;5;124m'\u001b[39m\u001b[38;5;124mCOPERNICUS/S2_HARMONIZED\u001b[39m\u001b[38;5;124m'\u001b[39m)\u001b[38;5;241m.\u001b[39mfilterBounds(polygon)\\\n\u001b[0;32m     39\u001b[0m         \u001b[38;5;241m.\u001b[39mfilterDate(start, end)\\\n\u001b[0;32m     40\u001b[0m         \u001b[38;5;241m.\u001b[39mfilter(ee\u001b[38;5;241m.\u001b[39mFilter\u001b[38;5;241m.\u001b[39mlt(\u001b[38;5;124m'\u001b[39m\u001b[38;5;124mCLOUDY_PIXEL_PERCENTAGE\u001b[39m\u001b[38;5;124m'\u001b[39m, \u001b[38;5;241m20\u001b[39m))\n\u001b[0;32m     42\u001b[0m \u001b[38;5;66;03m# Verificar cuántas imágenes fueron seleccionadas\u001b[39;00m\n\u001b[1;32m---> 43\u001b[0m num_images \u001b[38;5;241m=\u001b[39m \u001b[43mimage_collection\u001b[49m\u001b[38;5;241;43m.\u001b[39;49m\u001b[43msize\u001b[49m\u001b[43m(\u001b[49m\u001b[43m)\u001b[49m\u001b[38;5;241;43m.\u001b[39;49m\u001b[43mgetInfo\u001b[49m\u001b[43m(\u001b[49m\u001b[43m)\u001b[49m\n\u001b[0;32m     44\u001b[0m \u001b[38;5;28mprint\u001b[39m(\u001b[38;5;124mf\u001b[39m\u001b[38;5;124m\"\u001b[39m\u001b[38;5;124m     Imágenes seleccionadas para \u001b[39m\u001b[38;5;132;01m{\u001b[39;00myear\u001b[38;5;132;01m}\u001b[39;00m\u001b[38;5;124m: \u001b[39m\u001b[38;5;132;01m{\u001b[39;00mnum_images\u001b[38;5;132;01m}\u001b[39;00m\u001b[38;5;124m\"\u001b[39m)\n\u001b[0;32m     46\u001b[0m \u001b[38;5;28;01mif\u001b[39;00m num_images \u001b[38;5;241m>\u001b[39m \u001b[38;5;241m0\u001b[39m:\n\u001b[0;32m     47\u001b[0m     \u001b[38;5;66;03m# Aplicar la función para calcular el NDVI a todas las imágenes\u001b[39;00m\n",
      "File \u001b[1;32m~\\AppData\\Local\\Programs\\Python\\Python310\\lib\\site-packages\\ee\\computedobject.py:107\u001b[0m, in \u001b[0;36mComputedObject.getInfo\u001b[1;34m(self)\u001b[0m\n\u001b[0;32m    101\u001b[0m \u001b[38;5;28;01mdef\u001b[39;00m \u001b[38;5;21mgetInfo\u001b[39m(\u001b[38;5;28mself\u001b[39m) \u001b[38;5;241m-\u001b[39m\u001b[38;5;241m>\u001b[39m Optional[Any]:\n\u001b[0;32m    102\u001b[0m \u001b[38;5;250m  \u001b[39m\u001b[38;5;124;03m\"\"\"Fetch and return information about this object.\u001b[39;00m\n\u001b[0;32m    103\u001b[0m \n\u001b[0;32m    104\u001b[0m \u001b[38;5;124;03m  Returns:\u001b[39;00m\n\u001b[0;32m    105\u001b[0m \u001b[38;5;124;03m    The object can evaluate to anything.\u001b[39;00m\n\u001b[0;32m    106\u001b[0m \u001b[38;5;124;03m  \"\"\"\u001b[39;00m\n\u001b[1;32m--> 107\u001b[0m   \u001b[38;5;28;01mreturn\u001b[39;00m \u001b[43mdata\u001b[49m\u001b[38;5;241;43m.\u001b[39;49m\u001b[43mcomputeValue\u001b[49m\u001b[43m(\u001b[49m\u001b[38;5;28;43mself\u001b[39;49m\u001b[43m)\u001b[49m\n",
      "File \u001b[1;32m~\\AppData\\Local\\Programs\\Python\\Python310\\lib\\site-packages\\ee\\data.py:1128\u001b[0m, in \u001b[0;36mcomputeValue\u001b[1;34m(obj)\u001b[0m\n\u001b[0;32m   1125\u001b[0m body \u001b[38;5;241m=\u001b[39m {\u001b[38;5;124m'\u001b[39m\u001b[38;5;124mexpression\u001b[39m\u001b[38;5;124m'\u001b[39m: serializer\u001b[38;5;241m.\u001b[39mencode(obj, for_cloud_api\u001b[38;5;241m=\u001b[39m\u001b[38;5;28;01mTrue\u001b[39;00m)}\n\u001b[0;32m   1126\u001b[0m _maybe_populate_workload_tag(body)\n\u001b[1;32m-> 1128\u001b[0m \u001b[38;5;28;01mreturn\u001b[39;00m \u001b[43m_execute_cloud_call\u001b[49m\u001b[43m(\u001b[49m\n\u001b[0;32m   1129\u001b[0m \u001b[43m    \u001b[49m\u001b[43m_get_cloud_projects\u001b[49m\u001b[43m(\u001b[49m\u001b[43m)\u001b[49m\n\u001b[0;32m   1130\u001b[0m \u001b[43m    \u001b[49m\u001b[38;5;241;43m.\u001b[39;49m\u001b[43mvalue\u001b[49m\u001b[43m(\u001b[49m\u001b[43m)\u001b[49m\n\u001b[0;32m   1131\u001b[0m \u001b[43m    \u001b[49m\u001b[38;5;241;43m.\u001b[39;49m\u001b[43mcompute\u001b[49m\u001b[43m(\u001b[49m\u001b[43mbody\u001b[49m\u001b[38;5;241;43m=\u001b[39;49m\u001b[43mbody\u001b[49m\u001b[43m,\u001b[49m\u001b[43m \u001b[49m\u001b[43mproject\u001b[49m\u001b[38;5;241;43m=\u001b[39;49m\u001b[43m_get_projects_path\u001b[49m\u001b[43m(\u001b[49m\u001b[43m)\u001b[49m\u001b[43m,\u001b[49m\u001b[43m \u001b[49m\u001b[43mprettyPrint\u001b[49m\u001b[38;5;241;43m=\u001b[39;49m\u001b[38;5;28;43;01mFalse\u001b[39;49;00m\u001b[43m)\u001b[49m\n\u001b[0;32m   1132\u001b[0m \u001b[43m\u001b[49m\u001b[43m)\u001b[49m[\u001b[38;5;124m'\u001b[39m\u001b[38;5;124mresult\u001b[39m\u001b[38;5;124m'\u001b[39m]\n",
      "File \u001b[1;32m~\\AppData\\Local\\Programs\\Python\\Python310\\lib\\site-packages\\ee\\data.py:410\u001b[0m, in \u001b[0;36m_execute_cloud_call\u001b[1;34m(call, num_retries)\u001b[0m\n\u001b[0;32m    408\u001b[0m   \u001b[38;5;28;01mreturn\u001b[39;00m call\u001b[38;5;241m.\u001b[39mexecute(num_retries\u001b[38;5;241m=\u001b[39mnum_retries)\n\u001b[0;32m    409\u001b[0m \u001b[38;5;28;01mexcept\u001b[39;00m googleapiclient\u001b[38;5;241m.\u001b[39merrors\u001b[38;5;241m.\u001b[39mHttpError \u001b[38;5;28;01mas\u001b[39;00m e:\n\u001b[1;32m--> 410\u001b[0m   \u001b[38;5;28;01mraise\u001b[39;00m _translate_cloud_exception(e)\n",
      "\u001b[1;31mEEException\u001b[0m: Request payload size exceeds the limit: 10485760 bytes."
     ]
    }
   ],
   "source": [
    "# Definir años a procesar\n",
    "#years = [a for a in range(2015, 2025)]\n",
    "years = [2022]\n",
    "\n",
    "# Abrir el archivo en modo escritura (o append si ya existe)\n",
    "with open('C:/Users/Michael/Documents/ml_zc/DatosObtenidos/nvdi_22_2.csv', mode='w', newline='', encoding='utf-8') as file:\n",
    "    # Crear el escritor CSV\n",
    "    writer = csv.DictWriter(file, fieldnames=['ADM3_PCODE', 'Año', 'avg_ndvi'])\n",
    "    \n",
    "    # Escribir el encabezado (si es necesario)\n",
    "    writer.writeheader()\n",
    "    \n",
    "    for num_fila in tqdm(range(0, parroquias.shape[0]), desc=\"Procesando parroquias\", ncols=parroquias.shape[0]):\n",
    "        \n",
    "        # Obtener fila de la parroquia\n",
    "        parroquia = parroquias.iloc[num_fila]\n",
    "    \n",
    "        # Convertir la fila (Serie) a un GeoDataFrame\n",
    "        temp_gdf = gpd.GeoDataFrame([parroquia], geometry='geometry', crs=parroquias.crs)\n",
    "    \n",
    "        # Transformamos el objeto a formato compatible con Google Earth Engine\n",
    "        polygon = gdf_to_fc(temp_gdf)\n",
    "\n",
    "        # Extraemos el código de la parroquia para usarla luego\n",
    "        name_parr = parroquia['ADM3_PCODE']\n",
    "\n",
    "        # Mostrar parroquia en proceso\n",
    "        print(name_parr)\n",
    "\n",
    "        # Extraer VIIRS diciembre por parroquia:\n",
    "\n",
    "        # Iterar sobre el periodo\n",
    "        for year in years:\n",
    "            start = ee.Date.fromYMD(year, 1, 1)  # Comienza desde el 1 de enero\n",
    "            end = ee.Date.fromYMD(year, 12, 31)   # Termina el 31 de diciembre\n",
    "            \n",
    "            # Son datos 2015 - 2025.  Ver en: https://developers.google.com/earth-engine/datasets/catalog/COPERNICUS_S2?hl=es-419\n",
    "            image_collection = ee.ImageCollection('COPERNICUS/S2_HARMONIZED').filterBounds(polygon)\\\n",
    "                    .filterDate(start, end)\\\n",
    "                    .filter(ee.Filter.lt('CLOUDY_PIXEL_PERCENTAGE', 20))\n",
    "    \n",
    "            # Verificar cuántas imágenes fueron seleccionadas\n",
    "            num_images = image_collection.size().getInfo()\n",
    "            print(f\"     Imágenes seleccionadas para {year}: {num_images}\")\n",
    "\n",
    "            if num_images > 0:\n",
    "                # Aplicar la función para calcular el NDVI a todas las imágenes\n",
    "                ndvi_collection = image_collection.map(calcular_ndvi)\n",
    "\n",
    "                # Calcular la media de NDVI para todo el periodo\n",
    "                ndvi_mean = ndvi_collection.mean()\n",
    "\n",
    "                # Reducir el NDVI por el polígono (media dentro del polígono)\n",
    "                ndvi_zonal = ndvi_mean.reduceRegion(\n",
    "                    reducer=ee.Reducer.mean(),\n",
    "                    geometry=polygon,\n",
    "                    scale=10,  # Resolución espacial de Sentinel-2\n",
    "                    maxPixels=1e8\n",
    "                )\n",
    "\n",
    "                # Verificar el contenido del resultado\n",
    "                ndvi_zonal_info = ndvi_zonal.getInfo()\n",
    "                print(f\"     Resultado de NDVI para {year}: {ndvi_zonal_info}\")\n",
    "\n",
    "                if ndvi_zonal_info:\n",
    "                    writer.writerow({'ADM3_PCODE': name_parr, 'Año': year, 'avg_ndvi': ndvi_zonal_info['NDVI']})\n",
    "                else:\n",
    "                    print(f\"       >> No se obtuvieron valores de NDVI para {year}\")\n",
    "            else:\n",
    "                print(f\"     >>No se encontraron imágenes para el año {year}\")"
   ]
  }
 ],
 "metadata": {
  "kernelspec": {
   "display_name": "Python 3 (ipykernel)",
   "language": "python",
   "name": "python3"
  },
  "language_info": {
   "codemirror_mode": {
    "name": "ipython",
    "version": 3
   },
   "file_extension": ".py",
   "mimetype": "text/x-python",
   "name": "python",
   "nbconvert_exporter": "python",
   "pygments_lexer": "ipython3",
   "version": "3.10.8"
  }
 },
 "nbformat": 4,
 "nbformat_minor": 5
}
